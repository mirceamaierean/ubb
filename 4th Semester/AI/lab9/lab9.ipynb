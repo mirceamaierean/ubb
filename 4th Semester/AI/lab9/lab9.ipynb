{
  "cells": [
    {
      "attachments": {},
      "cell_type": "markdown",
      "metadata": {},
      "source": [
        "## Lab. 12\n",
        "\n",
        "### Solve the following problem using Genetic Algorithms:\n",
        "\n",
        "\n",
        "Problem: Weighted N-Queen Problem\n",
        "\n",
        "\n",
        "You are given an N×N chessboard, and each cell of the board has an associated weight. Your task is to find a valid placement of N queens such that the total weight of the queens is maximized, and no two queens threaten each other.\n",
        "\n"
      ]
    },
    {
      "attachments": {},
      "cell_type": "markdown",
      "metadata": {},
      "source": [
        "\n",
        "\n",
        "In the traditional N-Queen Problem, the goal is to place N queens on an N×N chessboard in such a way that no two queens threaten each other. In this variation, we introduce weights to the queens and aim to find a placement that maximizes the total weight of the queens while satisfying the constraint of non-threatening positions.\n",
        "\n",
        "\n",
        "Constraints:\n",
        "\n",
        "1. There should be exactly one queen in each row and each column.\n",
        "2. No two queens should be placed in the same diagonal, i.e., they should not threaten each other.\n",
        "3. The placement should maximize the total weight of the queens.\n",
        "\n",
        "\n",
        "Representation:\n",
        "\n",
        "Use a permutation-based representation. Each permutation represents the column position of the queen for each row. \n",
        "\n",
        "For example, if N=4, a valid permutation [2, 4, 1, 3] indicates that the queen in the first row is placed in column 2, the queen in the second row is placed in column 4, and so on.\n",
        "\n",
        "\n",
        "Genetic Algorithm Steps:\n",
        "\n",
        "1. *Initialization*: Generate an initial population of permutations randomly.\n",
        "\n",
        "2. *Fitness Evaluation*: Evaluate the fitness of each permutation by calculating the total weight of the queens while considering the non-threatening positions.\n",
        "\n",
        "3. *Selection*: Select a subset of permutations from the population based on their fitness, using selection techniques like tournament selection or roulette wheel selection.\n",
        "\n",
        "4. *Crossover*: Perform crossover (recombination) on the selected permutations to create new offspring permutations.\n",
        "\n",
        "5. *Mutation*: Introduce random changes (mutations) in the offspring permutations to maintain diversity in the population.\n",
        "\n",
        "6. *Fitness Evaluation for the new individuals*: Evaluate the fitness of the new population.\n",
        "\n",
        "7. *Form the new population*: Select the surviving individuals based on scores, with chances direct proportional with their performance.\n",
        "\n",
        "8. Repeat steps 3-7 for a certain number of generations or until a termination condition is met (e.g., a maximum number of iterations or a satisfactory solution is found).\n",
        "\n",
        "\n",
        "9. *Termination*: Return the best-performing individual (permutation) found as the solution to the problem.\n",
        "\n",
        "Note: The fitness function used in this problem should calculate the total weight of the queens based on the positions specified by the permutation. Additionally, the fitness function should penalize solutions that violate the non-threatening constraint by assigning a lower fitness score to such permutations."
      ]
    },
    {
      "cell_type": "code",
      "execution_count": 1,
      "metadata": {},
      "outputs": [],
      "source": [
        "import numpy as np\n",
        "import random\n",
        "\n",
        "random.seed()"
      ]
    },
    {
      "cell_type": "markdown",
      "metadata": {},
      "source": []
    },
    {
      "cell_type": "code",
      "execution_count": 2,
      "metadata": {},
      "outputs": [],
      "source": [
        "def initialize_individual(num_features):\n",
        "    return np.random.permutation(num_features)"
      ]
    },
    {
      "cell_type": "code",
      "execution_count": 3,
      "metadata": {},
      "outputs": [],
      "source": [
        "def initialize_population(num_individuals, num_features):\n",
        "    return np.array([initialize_individual(num_features) for _ in range(num_individuals)])"
      ]
    },
    {
      "cell_type": "code",
      "execution_count": 12,
      "metadata": {},
      "outputs": [],
      "source": [
        "def fitness(weights, individual):\n",
        "    used_first_diag = {}\n",
        "    used_secondary_diag = {}\n",
        "    answer_sum = 0\n",
        "    for i in range(individual.shape[0]):\n",
        "        secondary_diag = i + individual[i]\n",
        "        first_diag = i - individual[i]\n",
        "        \n",
        "        if first_diag in used_first_diag:\n",
        "            return 0\n",
        "    \n",
        "        if secondary_diag in used_secondary_diag:\n",
        "            return 0\n",
        "        \n",
        "        used_first_diag[first_diag] = 1\n",
        "        used_secondary_diag[secondary_diag] = 1\n",
        "        answer_sum += weights[i][individual[i]] \n",
        "    return answer_sum"
      ]
    },
    {
      "cell_type": "code",
      "execution_count": 5,
      "metadata": {},
      "outputs": [],
      "source": [
        "def selection(weights, individuals):\n",
        "    fitnesses = np.array([fitness(weights, individual) for individual in individuals]) + 1\n",
        "    probabilities = fitnesses / fitnesses.max(axis = 0)\n",
        "    selected = []\n",
        "    for i in range(individuals.shape[0]):\n",
        "        if random.random() < probabilities[i]:\n",
        "            selected.append(individuals[i])\n",
        "    return np.array(selected)"
      ]
    },
    {
      "cell_type": "code",
      "execution_count": 6,
      "metadata": {},
      "outputs": [],
      "source": [
        "def crossover(individuals):\n",
        "    indexes = np.random.choice(individuals.shape[0], size = 2, replace=False)\n",
        "    child = np.zeros(individuals[indexes[0]].shape[0]).astype(int)\n",
        "    for i in range(individuals[indexes[0]].shape[0]):\n",
        "        child[i] = individuals[indexes[0]][individuals[indexes[1]][i]]\n",
        "    return child"
      ]
    },
    {
      "cell_type": "code",
      "execution_count": 7,
      "metadata": {},
      "outputs": [],
      "source": [
        "def mutation(individual, mutation_rate):\n",
        "    if random.random() > mutation_rate:\n",
        "        return individual\n",
        "    indexes = np.random.choice(individual.shape[0], size = 2, replace=False)\n",
        "    individual[indexes[0]], individual[indexes[1]] = individual[indexes[1]], individual[indexes[0]]\n",
        "    return individual"
      ]
    },
    {
      "cell_type": "code",
      "execution_count": 8,
      "metadata": {},
      "outputs": [],
      "source": [
        "def get_new_generation(weights, individuals, mutation_rate):\n",
        "    selected = selection(weights, individuals)\n",
        "    new_generation = [individual for individual in selected]\n",
        "    for _ in range(selected.shape[0], individuals.shape[0]):\n",
        "        new_generation.append(np.array(mutation(crossover(selected), mutation_rate)))\n",
        "    return np.array(new_generation)"
      ]
    },
    {
      "cell_type": "code",
      "execution_count": 9,
      "metadata": {},
      "outputs": [],
      "source": [
        "def run_simulation(generations, number_individuals, weights, mutation_rate):\n",
        "    individuals = initialize_population(number_individuals, weights.shape[0])\n",
        "    for i in range(generations):\n",
        "        if i % 100 == 0:\n",
        "            print(f\"Done {i} generations\")\n",
        "        individuals = get_new_generation(weights, individuals, mutation_rate)\n",
        "    fitnesses = np.array([fitness(weights, individual) for individual in individuals])\n",
        "    return individuals[np.argmax(fitnesses)]"
      ]
    },
    {
      "cell_type": "code",
      "execution_count": 13,
      "metadata": {},
      "outputs": [
        {
          "name": "stdout",
          "output_type": "stream",
          "text": [
            "Done 0 generations\n",
            "Done 100 generations\n",
            "Done 200 generations\n",
            "Done 300 generations\n",
            "Done 400 generations\n",
            "Done 500 generations\n",
            "Done 600 generations\n",
            "Done 700 generations\n",
            "Done 800 generations\n",
            "Done 900 generations\n",
            "Weights are [[0.18241631 0.20515543 0.52252729 0.88077913 0.23583217 0.98843977\n",
            "  0.72767396 0.41251971]\n",
            " [0.68050388 0.93632896 0.3910408  0.80860707 0.11311232 0.1866865\n",
            "  0.81377616 0.86851949]\n",
            " [0.80904211 0.43536879 0.03982579 0.96746336 0.71864374 0.86881255\n",
            "  0.98122102 0.23475136]\n",
            " [0.23490856 0.06186793 0.98480608 0.83685528 0.77423255 0.29164603\n",
            "  0.73053667 0.35268587]\n",
            " [0.07321055 0.64836406 0.0939527  0.19666217 0.41988896 0.15528018\n",
            "  0.48133175 0.25983403]\n",
            " [0.28029254 0.48199156 0.64413658 0.76568752 0.32269025 0.61501581\n",
            "  0.79750337 0.96442485]\n",
            " [0.43034529 0.71174235 0.54684658 0.29805377 0.38721234 0.68633411\n",
            "  0.29961663 0.81992023]\n",
            " [0.95558992 0.53200389 0.44388923 0.77075081 0.46534182 0.84123844\n",
            "  0.65885701 0.37226274]]\n",
            "Found [3 1 6 2 5 7 4 0] found with fitness 6.245642479140093\n"
          ]
        }
      ],
      "source": [
        "weights = np.random.rand(8, 8)\n",
        "best = run_simulation(1000, 1000, weights, 0.1)\n",
        "print(f\"Weights are {weights}\")\n",
        "print(f\"Found {best} found with fitness {fitness(weights, best)}\")"
      ]
    },
    {
      "cell_type": "code",
      "execution_count": null,
      "metadata": {},
      "outputs": [],
      "source": []
    }
  ],
  "metadata": {
    "kernel_info": {
      "name": "python"
    },
    "kernelspec": {
      "display_name": "env",
      "language": "python",
      "name": "python3"
    },
    "language_info": {
      "codemirror_mode": {
        "name": "ipython",
        "version": 3
      },
      "file_extension": ".py",
      "mimetype": "text/x-python",
      "name": "python",
      "nbconvert_exporter": "python",
      "pygments_lexer": "ipython3",
      "version": "3.12.3"
    },
    "nteract": {
      "version": "nteract-front-end@1.0.0"
    },
    "orig_nbformat": 4
  },
  "nbformat": 4,
  "nbformat_minor": 2
}
